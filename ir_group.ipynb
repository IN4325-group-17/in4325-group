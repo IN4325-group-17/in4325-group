{
  "nbformat": 4,
  "nbformat_minor": 0,
  "metadata": {
    "colab": {
      "provenance": []
    },
    "kernelspec": {
      "name": "python3",
      "display_name": "Python 3"
    },
    "language_info": {
      "name": "python"
    },
    "gpuClass": "standard",
    "accelerator": "GPU"
  },
  "cells": [
    {
      "cell_type": "markdown",
      "source": [
        "# setup env"
      ],
      "metadata": {
        "id": "fIKi_jXH7Gsg"
      }
    },
    {
      "cell_type": "code",
      "source": [
        "!pip install torch==1.8.0+cu111 torchvision==0.9.0+cu111 torchaudio==0.8.0 -f https://download.pytorch.org/whl/torch_stable.html"
      ],
      "metadata": {
        "id": "jgJj93wSEN8N"
      },
      "execution_count": null,
      "outputs": []
    },
    {
      "cell_type": "code",
      "source": [
        "!pip install allrank"
      ],
      "metadata": {
        "id": "yJc1Oevu8n9D"
      },
      "execution_count": null,
      "outputs": []
    },
    {
      "cell_type": "code",
      "execution_count": null,
      "metadata": {
        "id": "H_f4nR1nyyq3"
      },
      "outputs": [],
      "source": [
        "# !pip uninstall allrank -y"
      ]
    },
    {
      "cell_type": "code",
      "source": [],
      "metadata": {
        "id": "v39X1jPFxvie"
      },
      "execution_count": null,
      "outputs": []
    },
    {
      "cell_type": "markdown",
      "source": [
        "# verify env"
      ],
      "metadata": {
        "id": "0816SxaB7LnB"
      }
    },
    {
      "cell_type": "code",
      "source": [
        "!nvidia-smi"
      ],
      "metadata": {
        "id": "4XAkTQyPJ3LF"
      },
      "execution_count": null,
      "outputs": []
    },
    {
      "cell_type": "code",
      "source": [
        "!pip list | grep torch"
      ],
      "metadata": {
        "id": "zcPlZUG1AX3T"
      },
      "execution_count": null,
      "outputs": []
    },
    {
      "cell_type": "code",
      "source": [
        "import torch\n",
        "torch.cuda.is_available()"
      ],
      "metadata": {
        "id": "-97WQSoFKCda"
      },
      "execution_count": null,
      "outputs": []
    },
    {
      "cell_type": "code",
      "source": [],
      "metadata": {
        "id": "pdjQpL9tFsk1"
      },
      "execution_count": null,
      "outputs": []
    },
    {
      "cell_type": "markdown",
      "source": [
        "# unzip dataset"
      ],
      "metadata": {
        "id": "hx4IUBfL7Txt"
      }
    },
    {
      "cell_type": "code",
      "source": [
        "!unrar x /content/drive/MyDrive/dataset/MQ2008.rar"
      ],
      "metadata": {
        "id": "rsPTpLSoFsib"
      },
      "execution_count": null,
      "outputs": []
    },
    {
      "cell_type": "code",
      "source": [],
      "metadata": {
        "id": "MZV-j_XzNzbC"
      },
      "execution_count": null,
      "outputs": []
    },
    {
      "cell_type": "code",
      "source": [
        "!unzip /content/drive/MyDrive/dataset/MSLR-WEB10K.zip -d ./MSLR-WEB10K/"
      ],
      "metadata": {
        "id": "LfiNp2d1NOom"
      },
      "execution_count": null,
      "outputs": []
    },
    {
      "cell_type": "code",
      "source": [],
      "metadata": {
        "id": "dn82_bcCHRBt"
      },
      "execution_count": null,
      "outputs": []
    },
    {
      "cell_type": "markdown",
      "source": [
        "# generate noisy dataset"
      ],
      "metadata": {
        "id": "Yo0Oiqgd7XC2"
      }
    },
    {
      "cell_type": "code",
      "source": [
        "# pick one\n",
        "\n",
        "# noise_seed, noise_level_str, dataset_name, fold_name = 42, '1e-2', 'MQ2008', 'Fold1'\n",
        "# noise_seed, noise_level_str, dataset_name, fold_name = 43, '1e-2', 'MQ2008', 'Fold2'\n",
        "# noise_seed, noise_level_str, dataset_name, fold_name = 44, '1e-2', 'MQ2008', 'Fold3'\n",
        "# noise_seed, noise_level_str, dataset_name, fold_name = 45, '1e-2', 'MQ2008', 'Fold4'\n",
        "# noise_seed, noise_level_str, dataset_name, fold_name = 46, '1e-2', 'MQ2008', 'Fold5'\n",
        "\n",
        "# noise_seed, noise_level_str, dataset_name, fold_name = 47, '1e-3', 'MQ2008', 'Fold1'\n",
        "# noise_seed, noise_level_str, dataset_name, fold_name = 48, '1e-3', 'MQ2008', 'Fold2'\n",
        "# noise_seed, noise_level_str, dataset_name, fold_name = 49, '1e-3', 'MQ2008', 'Fold3'\n",
        "# noise_seed, noise_level_str, dataset_name, fold_name = 50, '1e-3', 'MQ2008', 'Fold4'\n",
        "# noise_seed, noise_level_str, dataset_name, fold_name = 51, '1e-3', 'MQ2008', 'Fold5'\n",
        "\n",
        "# noise_seed, noise_level_str, dataset_name, fold_name = 52, '1e-1', 'MQ2008', 'Fold1'\n",
        "# noise_seed, noise_level_str, dataset_name, fold_name = 53, '1e-1', 'MQ2008', 'Fold2'\n",
        "# noise_seed, noise_level_str, dataset_name, fold_name = 54, '1e-1', 'MQ2008', 'Fold3'\n",
        "# noise_seed, noise_level_str, dataset_name, fold_name = 55, '1e-1', 'MQ2008', 'Fold4'\n",
        "# noise_seed, noise_level_str, dataset_name, fold_name = 56, '1e-1', 'MQ2008', 'Fold5'\n",
        "\n",
        "# noise_seed, noise_level_str, dataset_name, fold_name = 42, '1e-2', 'MSLR-WEB10K', 'Fold1'\n",
        "# noise_seed, noise_level_str, dataset_name, fold_name = 43, '1e-2', 'MSLR-WEB10K', 'Fold2'\n",
        "# noise_seed, noise_level_str, dataset_name, fold_name = 44, '1e-2', 'MSLR-WEB10K', 'Fold3'\n",
        "# noise_seed, noise_level_str, dataset_name, fold_name = 45, '1e-2', 'MSLR-WEB10K', 'Fold4'\n",
        "# noise_seed, noise_level_str, dataset_name, fold_name = 46, '1e-2', 'MSLR-WEB10K', 'Fold5'\n",
        "\n",
        "# noise_seed, noise_level_str, dataset_name, fold_name = 47, '1e-3', 'MSLR-WEB10K', 'Fold1'\n",
        "# noise_seed, noise_level_str, dataset_name, fold_name = 48, '1e-3', 'MSLR-WEB10K', 'Fold2'\n",
        "# noise_seed, noise_level_str, dataset_name, fold_name = 49, '1e-3', 'MSLR-WEB10K', 'Fold3'\n",
        "# noise_seed, noise_level_str, dataset_name, fold_name = 50, '1e-3', 'MSLR-WEB10K', 'Fold4'\n",
        "# noise_seed, noise_level_str, dataset_name, fold_name = 51, '1e-3', 'MSLR-WEB10K', 'Fold5'\n",
        "\n",
        "# noise_seed, noise_level_str, dataset_name, fold_name = 52, '1e-1', 'MSLR-WEB10K', 'Fold1'\n",
        "# noise_seed, noise_level_str, dataset_name, fold_name = 53, '1e-1', 'MSLR-WEB10K', 'Fold2'\n",
        "# noise_seed, noise_level_str, dataset_name, fold_name = 54, '1e-1', 'MSLR-WEB10K', 'Fold3'\n",
        "# noise_seed, noise_level_str, dataset_name, fold_name = 55, '1e-1', 'MSLR-WEB10K', 'Fold4'\n",
        "# noise_seed, noise_level_str, dataset_name, fold_name = 56, '1e-1', 'MSLR-WEB10K', 'Fold5'"
      ],
      "metadata": {
        "id": "BrsO6VCFNlTB"
      },
      "execution_count": null,
      "outputs": []
    },
    {
      "cell_type": "code",
      "source": [
        "noise_level = float(noise_level_str)\n",
        "noise_type = 'feature'\n",
        "add_to_fold = f'./{dataset_name}/{fold_name}'\n",
        "save_to_dir = f'./{dataset_name}+{noise_type}+{noise_level_str}/{fold_name}'\n",
        "!python /content/drive/MyDrive/dataset/add_noise.py --seed {noise_seed} --level {noise_level} --type {noise_type} --svm-file-path {add_to_fold}/train.txt --save-dir {save_to_dir} --save-name train.txt\n",
        "!cp {add_to_fold}/test.txt {save_dir}"
      ],
      "metadata": {
        "id": "NOhr3EAFvCGS"
      },
      "execution_count": null,
      "outputs": []
    },
    {
      "cell_type": "code",
      "source": [],
      "metadata": {
        "id": "_kmdgEqjzk6H"
      },
      "execution_count": null,
      "outputs": []
    },
    {
      "cell_type": "code",
      "source": [],
      "metadata": {
        "id": "x7wZ4PXZ0frF"
      },
      "execution_count": null,
      "outputs": []
    },
    {
      "cell_type": "markdown",
      "source": [
        "# run allrank"
      ],
      "metadata": {
        "id": "BtOYn9_R7Z0k"
      }
    },
    {
      "cell_type": "code",
      "source": [
        "# remeber to edit config json\n",
        "# also dont forget to save training log\n",
        "run_id = 'run_id'\n",
        "!rm -rf ./test_run/\n",
        "!python /content/drive/MyDrive/dataset/wrapper.py --config-file-name /content/drive/MyDrive/dataset/config-colab.json --job-dir ./test_run --run-id {run_id}"
      ],
      "metadata": {
        "id": "b94qQQl2LrJG"
      },
      "execution_count": null,
      "outputs": []
    },
    {
      "cell_type": "code",
      "source": [],
      "metadata": {
        "id": "XRFXzsJD7CuI"
      },
      "execution_count": null,
      "outputs": []
    },
    {
      "cell_type": "code",
      "source": [],
      "metadata": {
        "id": "ThXl3N9n7Crm"
      },
      "execution_count": null,
      "outputs": []
    }
  ]
}